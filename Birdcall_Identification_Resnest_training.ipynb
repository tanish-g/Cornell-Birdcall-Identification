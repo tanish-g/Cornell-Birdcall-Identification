{
  "nbformat": 4,
  "nbformat_minor": 0,
  "metadata": {
    "kernelspec": {
      "display_name": "Python 3",
      "language": "python",
      "name": "python3"
    },
    "language_info": {
      "codemirror_mode": {
        "name": "ipython",
        "version": 3
      },
      "file_extension": ".py",
      "mimetype": "text/x-python",
      "name": "python",
      "nbconvert_exporter": "python",
      "pygments_lexer": "ipython3",
      "version": "3.7.6"
    },
    "colab": {
      "name": "Birdcall Identification Resnest training.ipynb",
      "provenance": []
    },
    "accelerator": "GPU"
  },
  "cells": [
    {
      "cell_type": "markdown",
      "metadata": {
        "id": "YsM2qyyh2yfN",
        "colab_type": "text"
      },
      "source": [
        "# Birdsong Pytorch Baseline: ResNeSt50-fast (Training)"
      ]
    },
    {
      "cell_type": "markdown",
      "metadata": {
        "id": "CDAbdHe12yfT",
        "colab_type": "text"
      },
      "source": [
        "### import libraries"
      ]
    },
    {
      "cell_type": "code",
      "metadata": {
        "id": "Iir0-To3Ih_q",
        "colab_type": "code",
        "colab": {}
      },
      "source": [
        "!nvidia-smi"
      ],
      "execution_count": null,
      "outputs": []
    },
    {
      "cell_type": "code",
      "metadata": {
        "id": "Wb2qftGbI26G",
        "colab_type": "code",
        "colab": {}
      },
      "source": [
        "from google.colab import drive\n",
        "drive.mount('/content/drive')"
      ],
      "execution_count": null,
      "outputs": []
    },
    {
      "cell_type": "code",
      "metadata": {
        "id": "bgdNcY3_Jar_",
        "colab_type": "code",
        "colab": {}
      },
      "source": [
        "!pip install soundfile --quiet\n",
        "!pip install audioread --quiet\n",
        "#!pip install catalyst"
      ],
      "execution_count": null,
      "outputs": []
    },
    {
      "cell_type": "code",
      "metadata": {
        "id": "Rlwixn1ejHBz",
        "colab_type": "code",
        "colab": {}
      },
      "source": [
        "#cd /content/resnest-0.0.6b20200701/resnest/"
      ],
      "execution_count": null,
      "outputs": []
    },
    {
      "cell_type": "code",
      "metadata": {
        "_cell_guid": "b1076dfc-b9ad-4769-8c92-a6c4dae69d19",
        "_uuid": "8f2839f25d086af736a60e9eeb907d3b93b6e0e5",
        "id": "P28O7g3N2yfg",
        "colab_type": "code",
        "colab": {}
      },
      "source": [
        "import os\n",
        "import gc\n",
        "import time\n",
        "import shutil\n",
        "import random\n",
        "import warnings\n",
        "import typing as tp\n",
        "from pathlib import Path\n",
        "#from contextlib import contextmanager\n",
        "\n",
        "#import yaml\n",
        "#from joblib import delayed, Parallel\n",
        "\n",
        "import cv2\n",
        "import librosa\n",
        "import audioread\n",
        "import soundfile as sf\n",
        "\n",
        "import numpy as np\n",
        "import pandas as pd\n",
        "\n",
        "from sklearn.metrics import f1_score\n",
        "from sklearn.model_selection import StratifiedKFold\n",
        "\n",
        "import torch\n",
        "import torch.nn as nn\n",
        "import torch.nn.functional as F\n",
        "import torch.utils.data as data\n",
        "import resnest.torch as resnest_torch\n",
        "\n",
        "pd.options.display.max_rows = 500\n",
        "pd.options.display.max_columns = 500"
      ],
      "execution_count": null,
      "outputs": []
    },
    {
      "cell_type": "markdown",
      "metadata": {
        "id": "8vjR6EPTY3om",
        "colab_type": "text"
      },
      "source": [
        "Data_Creation"
      ]
    },
    {
      "cell_type": "code",
      "metadata": {
        "id": "vXpyW6UTjQdO",
        "colab_type": "code",
        "colab": {}
      },
      "source": [
        "cd /content/\n",
        "!mkdir npy_files\n",
        "!unzip -qq \"/content/drive/My Drive/Resnet/resnest50-fast-package.zip\""
      ],
      "execution_count": null,
      "outputs": []
    },
    {
      "cell_type": "code",
      "metadata": {
        "id": "giumVqY5PIiz",
        "colab_type": "code",
        "colab": {}
      },
      "source": [
        "!unzip -qq \"/content/drive/My Drive/Resnet/resnetnpyfile1.zip\"\n",
        "!cp -r f4k/* npy_files/\n",
        "!rm -rf f4k"
      ],
      "execution_count": null,
      "outputs": []
    },
    {
      "cell_type": "code",
      "metadata": {
        "id": "U_qqLDkHQYUI",
        "colab_type": "code",
        "colab": {}
      },
      "source": [
        "!unzip -qq \"/content/drive/My Drive/Resnet/resnetnpyfile2.zip\"\n",
        "!cp -r f4k/* npy_files/\n",
        "!rm -rf f4k"
      ],
      "execution_count": null,
      "outputs": []
    },
    {
      "cell_type": "code",
      "metadata": {
        "id": "QIwLowR3RFb3",
        "colab_type": "code",
        "colab": {}
      },
      "source": [
        "!unzip -qq \"/content/drive/My Drive/Resnet/resnetnpyfile3.zip\"\n",
        "!cp -r f4k/* npy_files/\n",
        "!rm -rf f4k"
      ],
      "execution_count": null,
      "outputs": []
    },
    {
      "cell_type": "code",
      "metadata": {
        "id": "WyUuwR9uRJkv",
        "colab_type": "code",
        "colab": {}
      },
      "source": [
        "!unzip -qq \"/content/drive/My Drive/Resnet/resnetnpyfile4.zip\"\n",
        "!cp -r f4k/* npy_files/\n",
        "!rm -rf f4k"
      ],
      "execution_count": null,
      "outputs": []
    },
    {
      "cell_type": "code",
      "metadata": {
        "id": "XXI3noWIRMnz",
        "colab_type": "code",
        "colab": {}
      },
      "source": [
        "!unzip -qq \"/content/drive/My Drive/Resnet/resnetnpyfile5.zip\"\n",
        "!cp -r f4k/* npy_files/\n",
        "!rm -rf f4k"
      ],
      "execution_count": null,
      "outputs": []
    },
    {
      "cell_type": "code",
      "metadata": {
        "id": "fWGR7T1VRRTf",
        "colab_type": "code",
        "colab": {}
      },
      "source": [
        "!unzip -qq \"/content/drive/My Drive/Resnet/resnet11.zip\"\n",
        "!cp -r f4k/* npy_files/\n",
        "!rm -rf f4k"
      ],
      "execution_count": null,
      "outputs": []
    },
    {
      "cell_type": "code",
      "metadata": {
        "id": "LRT_gIx_RjoB",
        "colab_type": "code",
        "colab": {}
      },
      "source": [
        "!unzip -qq \"/content/drive/My Drive/Resnet/resnet9.zip\"\n",
        "!cp -r f4k/* npy_files/\n",
        "!rm -rf f4k"
      ],
      "execution_count": null,
      "outputs": []
    },
    {
      "cell_type": "code",
      "metadata": {
        "id": "K5ZYb2XHRwIq",
        "colab_type": "code",
        "colab": {}
      },
      "source": [
        "!unzip -qq \"/content/drive/My Drive/Resnet/resnet8.zip\"\n",
        "!cp -r f4k/* npy_files/\n",
        "!rm -rf f4k"
      ],
      "execution_count": null,
      "outputs": []
    },
    {
      "cell_type": "code",
      "metadata": {
        "id": "TTQNrKUuR0Wi",
        "colab_type": "code",
        "colab": {}
      },
      "source": [
        "!unzip -qq \"/content/drive/My Drive/Resnet/resnet7.zip\"\n",
        "!cp -r f4k/* npy_files/\n",
        "!rm -rf f4k"
      ],
      "execution_count": null,
      "outputs": []
    },
    {
      "cell_type": "markdown",
      "metadata": {
        "_cell_guid": "79c7e3d0-c299-4dcb-8224-4455121ee9b0",
        "_uuid": "d629ff2d2480ee46fbb7e2d37f6b5fab8052498a",
        "collapsed": true,
        "id": "ugDGSize2yfu",
        "colab_type": "text"
      },
      "source": [
        "### define utilities"
      ]
    },
    {
      "cell_type": "code",
      "metadata": {
        "id": "C1o1W1I32yfu",
        "colab_type": "code",
        "colab": {}
      },
      "source": [
        "def set_seed(seed: int = 42):\n",
        "    random.seed(seed)\n",
        "    np.random.seed(seed)\n",
        "    os.environ[\"PYTHONHASHSEED\"] = str(seed)\n",
        "    torch.manual_seed(seed)\n",
        "    torch.cuda.manual_seed(seed)  # type: ignore\n",
        "#     torch.backends.cudnn.deterministic = True  # type: ignore\n",
        "#     torch.backends.cudnn.benchmark = True  # type: ignore\n",
        "    \n",
        "\n",
        "set_seed(1213)"
      ],
      "execution_count": null,
      "outputs": []
    },
    {
      "cell_type": "markdown",
      "metadata": {
        "id": "JQkFjZro2yfz",
        "colab_type": "text"
      },
      "source": [
        "### read data"
      ]
    },
    {
      "cell_type": "code",
      "metadata": {
        "id": "zgryJ_bNX1Yi",
        "colab_type": "code",
        "colab": {}
      },
      "source": [
        "train = pd.read_csv(\"train_mod.csv\")"
      ],
      "execution_count": null,
      "outputs": []
    },
    {
      "cell_type": "code",
      "metadata": {
        "id": "ZIlRO4EtgtFP",
        "colab_type": "code",
        "colab": {}
      },
      "source": [
        "for x in range(len(train)):\n",
        "  a=train.resampled_filename[x]\n",
        "  sep='.'\n",
        "  a=a.split(sep,1)[0]\n",
        "  ebird_code=train.ebird_code[x]\n",
        "  train.resampled_filename[x]='/content/npy_files/'+ebird_code+'_'+a+'.npy'"
      ],
      "execution_count": null,
      "outputs": []
    },
    {
      "cell_type": "code",
      "metadata": {
        "_kg_hide-input": true,
        "id": "HgH9iuqk2ygW",
        "colab_type": "code",
        "colab": {}
      },
      "source": [
        "# train_org = train.copy()\n",
        "# TRAIN_RESAMPLED_DIR = Path(\"/kaggle/processed_data/train_audio_resampled\")\n",
        "# TRAIN_RESAMPLED_DIR.mkdir(parents=True)\n",
        "\n",
        "# for ebird_code in train.ebird_code.unique():\n",
        "#     ebird_dir = TRAIN_RESAMPLED_DIR / ebird_code\n",
        "#     ebird_dir.mkdir()\n",
        "\n",
        "# warnings.simplefilter(\"ignore\")\n",
        "# train_audio_infos = train[[\"ebird_code\", \"filename\"]].values.tolist()\n",
        "# Parallel(n_jobs=NUM_THREAD, verbose=10)(\n",
        "#     delayed(resample)(ebird_code, file_name, TARGET_SR) for ebird_code, file_name in train_audio_infos)\n",
        "\n",
        "# train[\"resampled_sampling_rate\"] = TARGET_SR\n",
        "# train[\"resampled_filename\"] = train[\"filename\"].map(\n",
        "#     lambda x: x.replace(\".mp3\", \".wav\"))\n",
        "# train[\"resampled_channels\"] = \"1 (mono)\""
      ],
      "execution_count": null,
      "outputs": []
    },
    {
      "cell_type": "markdown",
      "metadata": {
        "id": "y4QmHKRK2ygZ",
        "colab_type": "text"
      },
      "source": [
        "## Definition"
      ]
    },
    {
      "cell_type": "markdown",
      "metadata": {
        "id": "bdowTE9P2ygZ",
        "colab_type": "text"
      },
      "source": [
        "### Dataset\n",
        "* forked from: https://github.com/koukyo1994/kaggle-birdcall-resnet-baseline-training/blob/master/src/dataset.py\n",
        "* modified partialy\n"
      ]
    },
    {
      "cell_type": "code",
      "metadata": {
        "_kg_hide-input": true,
        "id": "-h9TzBWx2yga",
        "colab_type": "code",
        "colab": {}
      },
      "source": [
        "BIRD_CODE = {\n",
        "    'aldfly': 0, 'ameavo': 1, 'amebit': 2, 'amecro': 3, 'amegfi': 4,\n",
        "    'amekes': 5, 'amepip': 6, 'amered': 7, 'amerob': 8, 'amewig': 9,\n",
        "    'amewoo': 10, 'amtspa': 11, 'annhum': 12, 'astfly': 13, 'baisan': 14,\n",
        "    'baleag': 15, 'balori': 16, 'banswa': 17, 'barswa': 18, 'bawwar': 19,\n",
        "    'belkin1': 20, 'belspa2': 21, 'bewwre': 22, 'bkbcuc': 23, 'bkbmag1': 24,\n",
        "    'bkbwar': 25, 'bkcchi': 26, 'bkchum': 27, 'bkhgro': 28, 'bkpwar': 29,\n",
        "    'bktspa': 30, 'blkpho': 31, 'blugrb1': 32, 'blujay': 33, 'bnhcow': 34,\n",
        "    'boboli': 35, 'bongul': 36, 'brdowl': 37, 'brebla': 38, 'brespa': 39,\n",
        "    'brncre': 40, 'brnthr': 41, 'brthum': 42, 'brwhaw': 43, 'btbwar': 44,\n",
        "    'btnwar': 45, 'btywar': 46, 'buffle': 47, 'buggna': 48, 'buhvir': 49,\n",
        "    'bulori': 50, 'bushti': 51, 'buwtea': 52, 'buwwar': 53, 'cacwre': 54,\n",
        "    'calgul': 55, 'calqua': 56, 'camwar': 57, 'cangoo': 58, 'canwar': 59,\n",
        "    'canwre': 60, 'carwre': 61, 'casfin': 62, 'caster1': 63, 'casvir': 64,\n",
        "    'cedwax': 65, 'chispa': 66, 'chiswi': 67, 'chswar': 68, 'chukar': 69,\n",
        "    'clanut': 70, 'cliswa': 71, 'comgol': 72, 'comgra': 73, 'comloo': 74,\n",
        "    'commer': 75, 'comnig': 76, 'comrav': 77, 'comred': 78, 'comter': 79,\n",
        "    'comyel': 80, 'coohaw': 81, 'coshum': 82, 'cowscj1': 83, 'daejun': 84,\n",
        "    'doccor': 85, 'dowwoo': 86, 'dusfly': 87, 'eargre': 88, 'easblu': 89,\n",
        "    'easkin': 90, 'easmea': 91, 'easpho': 92, 'eastow': 93, 'eawpew': 94,\n",
        "    'eucdov': 95, 'eursta': 96, 'evegro': 97, 'fiespa': 98, 'fiscro': 99,\n",
        "    'foxspa': 100, 'gadwal': 101, 'gcrfin': 102, 'gnttow': 103, 'gnwtea': 104,\n",
        "    'gockin': 105, 'gocspa': 106, 'goleag': 107, 'grbher3': 108, 'grcfly': 109,\n",
        "    'greegr': 110, 'greroa': 111, 'greyel': 112, 'grhowl': 113, 'grnher': 114,\n",
        "    'grtgra': 115, 'grycat': 116, 'gryfly': 117, 'haiwoo': 118, 'hamfly': 119,\n",
        "    'hergul': 120, 'herthr': 121, 'hoomer': 122, 'hoowar': 123, 'horgre': 124,\n",
        "    'horlar': 125, 'houfin': 126, 'houspa': 127, 'houwre': 128, 'indbun': 129,\n",
        "    'juntit1': 130, 'killde': 131, 'labwoo': 132, 'larspa': 133, 'lazbun': 134,\n",
        "    'leabit': 135, 'leafly': 136, 'leasan': 137, 'lecthr': 138, 'lesgol': 139,\n",
        "    'lesnig': 140, 'lesyel': 141, 'lewwoo': 142, 'linspa': 143, 'lobcur': 144,\n",
        "    'lobdow': 145, 'logshr': 146, 'lotduc': 147, 'louwat': 148, 'macwar': 149,\n",
        "    'magwar': 150, 'mallar3': 151, 'marwre': 152, 'merlin': 153, 'moublu': 154,\n",
        "    'mouchi': 155, 'moudov': 156, 'norcar': 157, 'norfli': 158, 'norhar2': 159,\n",
        "    'normoc': 160, 'norpar': 161, 'norpin': 162, 'norsho': 163, 'norwat': 164,\n",
        "    'nrwswa': 165, 'nutwoo': 166, 'olsfly': 167, 'orcwar': 168, 'osprey': 169,\n",
        "    'ovenbi1': 170, 'palwar': 171, 'pasfly': 172, 'pecsan': 173, 'perfal': 174,\n",
        "    'phaino': 175, 'pibgre': 176, 'pilwoo': 177, 'pingro': 178, 'pinjay': 179,\n",
        "    'pinsis': 180, 'pinwar': 181, 'plsvir': 182, 'prawar': 183, 'purfin': 184,\n",
        "    'pygnut': 185, 'rebmer': 186, 'rebnut': 187, 'rebsap': 188, 'rebwoo': 189,\n",
        "    'redcro': 190, 'redhea': 191, 'reevir1': 192, 'renpha': 193, 'reshaw': 194,\n",
        "    'rethaw': 195, 'rewbla': 196, 'ribgul': 197, 'rinduc': 198, 'robgro': 199,\n",
        "    'rocpig': 200, 'rocwre': 201, 'rthhum': 202, 'ruckin': 203, 'rudduc': 204,\n",
        "    'rufgro': 205, 'rufhum': 206, 'rusbla': 207, 'sagspa1': 208, 'sagthr': 209,\n",
        "    'savspa': 210, 'saypho': 211, 'scatan': 212, 'scoori': 213, 'semplo': 214,\n",
        "    'semsan': 215, 'sheowl': 216, 'shshaw': 217, 'snobun': 218, 'snogoo': 219,\n",
        "    'solsan': 220, 'sonspa': 221, 'sora': 222, 'sposan': 223, 'spotow': 224,\n",
        "    'stejay': 225, 'swahaw': 226, 'swaspa': 227, 'swathr': 228, 'treswa': 229,\n",
        "    'truswa': 230, 'tuftit': 231, 'tunswa': 232, 'veery': 233, 'vesspa': 234,\n",
        "    'vigswa': 235, 'warvir': 236, 'wesblu': 237, 'wesgre': 238, 'weskin': 239,\n",
        "    'wesmea': 240, 'wessan': 241, 'westan': 242, 'wewpew': 243, 'whbnut': 244,\n",
        "    'whcspa': 245, 'whfibi': 246, 'whtspa': 247, 'whtswi': 248, 'wilfly': 249,\n",
        "    'wilsni1': 250, 'wiltur': 251, 'winwre3': 252, 'wlswar': 253, 'wooduc': 254,\n",
        "    'wooscj2': 255, 'woothr': 256, 'y00475': 257, 'yebfly': 258, 'yebsap': 259,\n",
        "    'yehbla': 260, 'yelwar': 261, 'yerwar': 262, 'yetvir': 263\n",
        "}\n",
        "\n",
        "INV_BIRD_CODE = {v: k for k, v in BIRD_CODE.items()}"
      ],
      "execution_count": null,
      "outputs": []
    },
    {
      "cell_type": "code",
      "metadata": {
        "_kg_hide-input": true,
        "id": "VaEUZ_RX2ygc",
        "colab_type": "code",
        "colab": {}
      },
      "source": [
        "class SpectrogramDataset(data.Dataset):\n",
        "    def __init__(\n",
        "        self,\n",
        "        df\n",
        "    ):\n",
        "        self.df = df  # list of list: [file_path, ebird_code]\n",
        "    def __len__(self):\n",
        "        return len(self.df)\n",
        "\n",
        "    def __getitem__(self, idx: int):\n",
        "        wav_path = self.df.resampled_filename.iloc[idx]\n",
        "        ebird_code = self.df.ebird_code.iloc[idx]\n",
        "        image=np.load(wav_path)\n",
        "        #labels = np.zeros(len(BIRD_CODE), dtype=\"i\")\n",
        "        labels = np.zeros(len(BIRD_CODE), dtype=\"f\")\n",
        "        labels[BIRD_CODE[ebird_code]] = 1\n",
        "\n",
        "        return image, labels"
      ],
      "execution_count": null,
      "outputs": []
    },
    {
      "cell_type": "markdown",
      "metadata": {
        "id": "N8M_by7a2yge",
        "colab_type": "text"
      },
      "source": [
        "### Training Utility"
      ]
    },
    {
      "cell_type": "code",
      "metadata": {
        "_kg_hide-input": true,
        "id": "rASMN85M2ygh",
        "colab_type": "code",
        "colab": {}
      },
      "source": [
        "def get_model():\n",
        "    model =getattr(resnest_torch, \"resnest50_fast_1s4x24d\")(pretrained=True)\n",
        "    del model.fc\n",
        "    model.fc = nn.Sequential(\n",
        "        nn.Linear(2048, 1024), nn.ReLU(), nn.Dropout(p=0.2),\n",
        "        nn.Linear(1024, 1024), nn.ReLU(), nn.Dropout(p=0.2),\n",
        "        nn.Linear(1024, 264))\n",
        "    return model"
      ],
      "execution_count": null,
      "outputs": []
    },
    {
      "cell_type": "markdown",
      "metadata": {
        "id": "sObK7Slx2ygm",
        "colab_type": "text"
      },
      "source": [
        "## Training"
      ]
    },
    {
      "cell_type": "markdown",
      "metadata": {
        "id": "4DAWGctJ2ygm",
        "colab_type": "text"
      },
      "source": [
        "### prepare data"
      ]
    },
    {
      "cell_type": "markdown",
      "metadata": {
        "id": "8KP-UU8l2ygq",
        "colab_type": "text"
      },
      "source": [
        "#### split data"
      ]
    },
    {
      "cell_type": "code",
      "metadata": {
        "_kg_hide-output": false,
        "id": "V0S3Hil52ygs",
        "colab_type": "code",
        "colab": {}
      },
      "source": [
        "skf = StratifiedKFold(n_splits=5, shuffle=True, random_state=42)\n",
        "\n",
        "train[\"fold\"] = -1\n",
        "for fold_id, (train_index, val_index) in enumerate(skf.split(train, train[\"ebird_code\"])):\n",
        "    train.iloc[val_index, -1] = fold_id\n",
        "fold_proportion = pd.pivot_table(train, index=\"ebird_code\", columns=\"fold\", values=\"xc_id\", aggfunc=len)\n",
        "print(fold_proportion.shape)"
      ],
      "execution_count": null,
      "outputs": []
    },
    {
      "cell_type": "code",
      "metadata": {
        "_kg_hide-output": true,
        "id": "XVBG3ast2ygu",
        "colab_type": "code",
        "colab": {}
      },
      "source": [
        "fold_proportion"
      ],
      "execution_count": null,
      "outputs": []
    },
    {
      "cell_type": "code",
      "metadata": {
        "id": "SHJ8hXdn2ygw",
        "colab_type": "code",
        "colab": {}
      },
      "source": [
        "use_fold = 2\n",
        "train_df = train[train.fold!=use_fold].reset_index(drop=True)\n",
        "val_df = train[train.fold==use_fold].reset_index(drop=True)\n",
        "\n",
        "print(\"[fold {}] train: {}, val: {}\".format(use_fold, len(train_df), len(val_df)))"
      ],
      "execution_count": null,
      "outputs": []
    },
    {
      "cell_type": "markdown",
      "metadata": {
        "id": "vV8hL_ok2ygx",
        "colab_type": "text"
      },
      "source": [
        "## run training"
      ]
    },
    {
      "cell_type": "code",
      "metadata": {
        "id": "CMUuuYHV2ygy",
        "colab_type": "code",
        "cellView": "code",
        "colab": {}
      },
      "source": [
        "#@title\n",
        "device = torch.device(\"cuda:0\")\n",
        "\n",
        "# loaders\n",
        "loaders = {\n",
        "    \"train\": data.DataLoader(SpectrogramDataset(train_df), \n",
        "                             batch_size=48, \n",
        "                             shuffle=True,\n",
        "                             num_workers=2, \n",
        "                             pin_memory=True, \n",
        "                             drop_last=True\n",
        "                             ),\n",
        "    \"valid\": data.DataLoader(SpectrogramDataset(val_df), \n",
        "                             batch_size=48, \n",
        "                             shuffle=False,\n",
        "                             num_workers=2,\n",
        "                             pin_memory=True,\n",
        "                             drop_last=False)\n",
        "}\n",
        "\n",
        "# model\n",
        "model=get_model()\n",
        "model.to(device)\n",
        "# Optimizer\n",
        "optimizer = torch.optim.Adam(model.parameters(),lr=1e-3)\n",
        "# Scheduler\n",
        "scheduler = torch.optim.lr_scheduler.CosineAnnealingLR(optimizer,T_max=10)"
      ],
      "execution_count": null,
      "outputs": []
    },
    {
      "cell_type": "code",
      "metadata": {
        "id": "tAk6reAfmxFM",
        "colab_type": "code",
        "colab": {}
      },
      "source": [
        "!mkdir \"/content/drive/My Drive/resnet-24-d/\""
      ],
      "execution_count": null,
      "outputs": []
    },
    {
      "cell_type": "code",
      "metadata": {
        "id": "WV2xw8UWnqWr",
        "colab_type": "code",
        "colab": {}
      },
      "source": [
        "def training_step(xb,yb,model,loss_fn,opt,device,scheduler):\n",
        "    xb,yb = xb.to(device), yb.to(device)\n",
        "    out = model(xb)\n",
        "    opt.zero_grad()\n",
        "    loss = loss_fn(out,yb)\n",
        "    loss.backward()\n",
        "    opt.step()\n",
        "    scheduler.step()\n",
        "    return loss.item()\n",
        "    \n",
        "def validation_step(xb,yb,model,loss_fn,device):\n",
        "    xb,yb = xb.to(device), yb.to(device)\n",
        "    out = model(xb)\n",
        "    loss = loss_fn(out,yb)\n",
        "    return loss.item(),out"
      ],
      "execution_count": null,
      "outputs": []
    },
    {
      "cell_type": "code",
      "metadata": {
        "id": "PkURo_5Nnt3T",
        "colab_type": "code",
        "colab": {}
      },
      "source": [
        "from fastprogress.fastprogress import master_bar, progress_bar"
      ],
      "execution_count": null,
      "outputs": []
    },
    {
      "cell_type": "code",
      "metadata": {
        "id": "B4YnHWKJwCq_",
        "colab_type": "code",
        "colab": {}
      },
      "source": [
        "!mkdir '/content/drive/My Drive/fold0/'"
      ],
      "execution_count": null,
      "outputs": []
    },
    {
      "cell_type": "code",
      "metadata": {
        "id": "WHAwRUcg7l2U",
        "colab_type": "code",
        "colab": {}
      },
      "source": [
        "#torch.cuda.empth_cache()"
      ],
      "execution_count": null,
      "outputs": []
    },
    {
      "cell_type": "code",
      "metadata": {
        "id": "hKJJbJhSnwiY",
        "colab_type": "code",
        "colab": {}
      },
      "source": [
        "def fit(epochs,model,train_dl,valid_dl,opt,device=None,loss_fn=F.binary_cross_entropy_with_logits):\n",
        "    device = device\n",
        "    scheduler = torch.optim.lr_scheduler.CosineAnnealingLR(optimizer,T_max=10)\n",
        "    best_f1=0\n",
        "    mb = master_bar(range(epochs))\n",
        "    for epoch in mb:    \n",
        "        trn_loss,val_loss= 0.0,0.0\n",
        "        val_preds = []\n",
        "        val_targs = []\n",
        "        model.train()\n",
        "        #For every batch \n",
        "        for xb,yb in progress_bar(train_dl,parent=mb):\n",
        "            trn_loss += training_step(xb,yb,model,loss_fn,opt,device,scheduler)\n",
        "        trn_loss /= mb.child.total\n",
        "\n",
        "        #Validation\n",
        "        model.eval()\n",
        "        with torch.no_grad():\n",
        "            for i,(xb,yb) in enumerate(progress_bar(valid_dl,parent=mb)):\n",
        "                loss,out = validation_step(xb,yb,model,loss_fn,device)\n",
        "                val_loss += loss\n",
        "                val_preds.extend(np.argmax(out.detach().cpu().numpy(),axis=1))\n",
        "                val_targs.extend(np.argmax(yb.detach().cpu().numpy(),axis=1))\n",
        "                del out\n",
        "        val_loss /= mb.child.total\n",
        "        val_f1 = f1_score(val_targs,val_preds,average='micro')\n",
        "        if val_f1>best_f1:\n",
        "          best_f1=val_f1\n",
        "          torch.save(model.state_dict(),f'/content/drive/My Drive/resnet-24-d/PANNS.pth')\n",
        "        torch.save({'model_state_dict':model.state_dict(),'scheduler_state_dict':scheduler.state_dict(),'optimizer_state_dict':opt.state_dict(),'val_loss':val_loss,'val_f1':val_f1},f'/content/drive/My Drive/resnet-24-d/PANNS_last.pth')\n",
        "        print(f'Epoch: {epoch},Train_loss: {trn_loss:.5f},Val_roc:{val_f1:.4f},Val_loss:{val_loss:.5f}')\n",
        "        with open('/content/drive/My Drive/resnet-24-d/log_fold0.txt','a+') as f:\n",
        "          f.writelines(f'Epoch: {epoch},Train_loss: {trn_loss:.5f},Val_loss:{val_loss:.5f},val_f1:{val_f1:.5f}\\n')\n",
        "        del val_f1\n",
        "        del trn_loss\n",
        "        del val_loss\n",
        "        del val_preds\n",
        "        del val_targs\n",
        "    return model"
      ],
      "execution_count": null,
      "outputs": []
    },
    {
      "cell_type": "markdown",
      "metadata": {
        "id": "aQ2RGsB42yg3",
        "colab_type": "text"
      },
      "source": [
        "## save results"
      ]
    },
    {
      "cell_type": "code",
      "metadata": {
        "id": "ihZEwp18o5dS",
        "colab_type": "code",
        "colab": {}
      },
      "source": [
        "model=fit(50,model,loaders['train'],loaders['valid'],optimizer,device=device)"
      ],
      "execution_count": null,
      "outputs": []
    }
  ]
}